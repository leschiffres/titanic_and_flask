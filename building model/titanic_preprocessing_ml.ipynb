{
 "cells": [
  {
   "cell_type": "code",
   "execution_count": 1,
   "metadata": {},
   "outputs": [],
   "source": [
    "import pandas as pd\n",
    "import numpy as np\n",
    "\n",
    "import warnings\n",
    "warnings.filterwarnings(\"ignore\", category=FutureWarning)\n",
    "\n",
    "# pd.isnull(df).sum()"
   ]
  },
  {
   "cell_type": "markdown",
   "metadata": {},
   "source": [
    "## Loading Dataset "
   ]
  },
  {
   "cell_type": "code",
   "execution_count": 2,
   "metadata": {},
   "outputs": [
    {
     "data": {
      "text/html": [
       "<div>\n",
       "<style scoped>\n",
       "    .dataframe tbody tr th:only-of-type {\n",
       "        vertical-align: middle;\n",
       "    }\n",
       "\n",
       "    .dataframe tbody tr th {\n",
       "        vertical-align: top;\n",
       "    }\n",
       "\n",
       "    .dataframe thead th {\n",
       "        text-align: right;\n",
       "    }\n",
       "</style>\n",
       "<table border=\"1\" class=\"dataframe\">\n",
       "  <thead>\n",
       "    <tr style=\"text-align: right;\">\n",
       "      <th></th>\n",
       "      <th>PassengerId</th>\n",
       "      <th>Survived</th>\n",
       "      <th>Pclass</th>\n",
       "      <th>Name</th>\n",
       "      <th>Sex</th>\n",
       "      <th>Age</th>\n",
       "      <th>SibSp</th>\n",
       "      <th>Parch</th>\n",
       "      <th>Ticket</th>\n",
       "      <th>Fare</th>\n",
       "      <th>Cabin</th>\n",
       "      <th>Embarked</th>\n",
       "    </tr>\n",
       "  </thead>\n",
       "  <tbody>\n",
       "    <tr>\n",
       "      <th>217</th>\n",
       "      <td>218</td>\n",
       "      <td>0</td>\n",
       "      <td>2</td>\n",
       "      <td>Jacobsohn, Mr. Sidney Samuel</td>\n",
       "      <td>male</td>\n",
       "      <td>42.0</td>\n",
       "      <td>1</td>\n",
       "      <td>0</td>\n",
       "      <td>243847</td>\n",
       "      <td>27.0000</td>\n",
       "      <td>NaN</td>\n",
       "      <td>S</td>\n",
       "    </tr>\n",
       "    <tr>\n",
       "      <th>543</th>\n",
       "      <td>544</td>\n",
       "      <td>1</td>\n",
       "      <td>2</td>\n",
       "      <td>Beane, Mr. Edward</td>\n",
       "      <td>male</td>\n",
       "      <td>32.0</td>\n",
       "      <td>1</td>\n",
       "      <td>0</td>\n",
       "      <td>2908</td>\n",
       "      <td>26.0000</td>\n",
       "      <td>NaN</td>\n",
       "      <td>S</td>\n",
       "    </tr>\n",
       "    <tr>\n",
       "      <th>608</th>\n",
       "      <td>609</td>\n",
       "      <td>1</td>\n",
       "      <td>2</td>\n",
       "      <td>Laroche, Mrs. Joseph (Juliette Marie Louise La...</td>\n",
       "      <td>female</td>\n",
       "      <td>22.0</td>\n",
       "      <td>1</td>\n",
       "      <td>2</td>\n",
       "      <td>SC/Paris 2123</td>\n",
       "      <td>41.5792</td>\n",
       "      <td>NaN</td>\n",
       "      <td>C</td>\n",
       "    </tr>\n",
       "  </tbody>\n",
       "</table>\n",
       "</div>"
      ],
      "text/plain": [
       "     PassengerId  Survived  Pclass  \\\n",
       "217          218         0       2   \n",
       "543          544         1       2   \n",
       "608          609         1       2   \n",
       "\n",
       "                                                  Name     Sex   Age  SibSp  \\\n",
       "217                       Jacobsohn, Mr. Sidney Samuel    male  42.0      1   \n",
       "543                                  Beane, Mr. Edward    male  32.0      1   \n",
       "608  Laroche, Mrs. Joseph (Juliette Marie Louise La...  female  22.0      1   \n",
       "\n",
       "     Parch         Ticket     Fare Cabin Embarked  \n",
       "217      0         243847  27.0000   NaN        S  \n",
       "543      0           2908  26.0000   NaN        S  \n",
       "608      2  SC/Paris 2123  41.5792   NaN        C  "
      ]
     },
     "execution_count": 2,
     "metadata": {},
     "output_type": "execute_result"
    }
   ],
   "source": [
    "df = pd.read_csv('dataset/train.csv')\n",
    "df.sample(3)"
   ]
  },
  {
   "cell_type": "markdown",
   "metadata": {},
   "source": [
    "Creating features:\n",
    "- family_size \n",
    "- title\n",
    "- is_alone\n",
    "\n",
    "Dropping features"
   ]
  },
  {
   "cell_type": "code",
   "execution_count": 3,
   "metadata": {},
   "outputs": [
    {
     "data": {
      "text/html": [
       "<div>\n",
       "<style scoped>\n",
       "    .dataframe tbody tr th:only-of-type {\n",
       "        vertical-align: middle;\n",
       "    }\n",
       "\n",
       "    .dataframe tbody tr th {\n",
       "        vertical-align: top;\n",
       "    }\n",
       "\n",
       "    .dataframe thead th {\n",
       "        text-align: right;\n",
       "    }\n",
       "</style>\n",
       "<table border=\"1\" class=\"dataframe\">\n",
       "  <thead>\n",
       "    <tr style=\"text-align: right;\">\n",
       "      <th></th>\n",
       "      <th>Survived</th>\n",
       "      <th>Pclass</th>\n",
       "      <th>Sex</th>\n",
       "      <th>Age</th>\n",
       "      <th>SibSp</th>\n",
       "      <th>Parch</th>\n",
       "      <th>Fare</th>\n",
       "      <th>Family_size</th>\n",
       "      <th>Title</th>\n",
       "      <th>IsAlone</th>\n",
       "    </tr>\n",
       "  </thead>\n",
       "  <tbody>\n",
       "    <tr>\n",
       "      <th>818</th>\n",
       "      <td>0</td>\n",
       "      <td>3</td>\n",
       "      <td>male</td>\n",
       "      <td>43.0</td>\n",
       "      <td>0</td>\n",
       "      <td>0</td>\n",
       "      <td>6.450</td>\n",
       "      <td>1</td>\n",
       "      <td>Mr</td>\n",
       "      <td>1</td>\n",
       "    </tr>\n",
       "    <tr>\n",
       "      <th>2</th>\n",
       "      <td>1</td>\n",
       "      <td>3</td>\n",
       "      <td>female</td>\n",
       "      <td>26.0</td>\n",
       "      <td>0</td>\n",
       "      <td>0</td>\n",
       "      <td>7.925</td>\n",
       "      <td>1</td>\n",
       "      <td>Miss</td>\n",
       "      <td>1</td>\n",
       "    </tr>\n",
       "    <tr>\n",
       "      <th>405</th>\n",
       "      <td>0</td>\n",
       "      <td>2</td>\n",
       "      <td>male</td>\n",
       "      <td>34.0</td>\n",
       "      <td>1</td>\n",
       "      <td>0</td>\n",
       "      <td>21.000</td>\n",
       "      <td>2</td>\n",
       "      <td>Mr</td>\n",
       "      <td>0</td>\n",
       "    </tr>\n",
       "  </tbody>\n",
       "</table>\n",
       "</div>"
      ],
      "text/plain": [
       "     Survived  Pclass     Sex   Age  SibSp  Parch    Fare  Family_size Title  \\\n",
       "818         0       3    male  43.0      0      0   6.450            1    Mr   \n",
       "2           1       3  female  26.0      0      0   7.925            1  Miss   \n",
       "405         0       2    male  34.0      1      0  21.000            2    Mr   \n",
       "\n",
       "     IsAlone  \n",
       "818        1  \n",
       "2          1  \n",
       "405        0  "
      ]
     },
     "execution_count": 3,
     "metadata": {},
     "output_type": "execute_result"
    }
   ],
   "source": [
    "# create family variable\n",
    "df['Family_size'] = df['Parch'] + df['SibSp'] + 1\n",
    "# create title feature\n",
    "df['Title'] = df['Name'].apply(lambda x : x.split('.')[0].split(',')[1].strip())\n",
    "df.loc[df['Title'] == 'Mlle','Title'] = 'Miss'\n",
    "df.loc[df['Title'] == 'Mme', 'Title'] = 'Miss'\n",
    "df.loc[df['Title'] == 'Ms', 'Title'] = 'Miss'\n",
    "rare_titles = ['Dr', 'Rev', 'Col', 'Major', 'Don','Dona', 'Lady', 'the Countess','Capt','Sir', 'Jonkheer']\n",
    "for r in rare_titles:\n",
    "    df.loc[df['Title'] == r, 'Title'] = 'Rare Title'\n",
    "\n",
    "df['IsAlone'] = 0\n",
    "df.loc[df['Family_size'] == 1, 'IsAlone'] = 1\n",
    "# remove name, cabin, ticket, 'PassengerId'\n",
    "df.drop(['Name', 'Cabin', 'Ticket', 'PassengerId', 'Embarked'], axis = 1, inplace = True)\n",
    "df.sample(3)"
   ]
  },
  {
   "cell_type": "markdown",
   "metadata": {},
   "source": [
    "## Reordering Columns"
   ]
  },
  {
   "cell_type": "code",
   "execution_count": 4,
   "metadata": {},
   "outputs": [
    {
     "data": {
      "text/html": [
       "<div>\n",
       "<style scoped>\n",
       "    .dataframe tbody tr th:only-of-type {\n",
       "        vertical-align: middle;\n",
       "    }\n",
       "\n",
       "    .dataframe tbody tr th {\n",
       "        vertical-align: top;\n",
       "    }\n",
       "\n",
       "    .dataframe thead th {\n",
       "        text-align: right;\n",
       "    }\n",
       "</style>\n",
       "<table border=\"1\" class=\"dataframe\">\n",
       "  <thead>\n",
       "    <tr style=\"text-align: right;\">\n",
       "      <th></th>\n",
       "      <th>Title</th>\n",
       "      <th>Age</th>\n",
       "      <th>Sex</th>\n",
       "      <th>Pclass</th>\n",
       "      <th>IsAlone</th>\n",
       "      <th>Family_size</th>\n",
       "      <th>Parch</th>\n",
       "      <th>SibSp</th>\n",
       "      <th>Fare</th>\n",
       "      <th>Survived</th>\n",
       "    </tr>\n",
       "  </thead>\n",
       "  <tbody>\n",
       "    <tr>\n",
       "      <th>312</th>\n",
       "      <td>Mrs</td>\n",
       "      <td>26.0</td>\n",
       "      <td>female</td>\n",
       "      <td>2</td>\n",
       "      <td>0</td>\n",
       "      <td>3</td>\n",
       "      <td>1</td>\n",
       "      <td>1</td>\n",
       "      <td>26.00</td>\n",
       "      <td>0</td>\n",
       "    </tr>\n",
       "    <tr>\n",
       "      <th>347</th>\n",
       "      <td>Mrs</td>\n",
       "      <td>NaN</td>\n",
       "      <td>female</td>\n",
       "      <td>3</td>\n",
       "      <td>0</td>\n",
       "      <td>2</td>\n",
       "      <td>0</td>\n",
       "      <td>1</td>\n",
       "      <td>16.10</td>\n",
       "      <td>1</td>\n",
       "    </tr>\n",
       "    <tr>\n",
       "      <th>141</th>\n",
       "      <td>Miss</td>\n",
       "      <td>22.0</td>\n",
       "      <td>female</td>\n",
       "      <td>3</td>\n",
       "      <td>1</td>\n",
       "      <td>1</td>\n",
       "      <td>0</td>\n",
       "      <td>0</td>\n",
       "      <td>7.75</td>\n",
       "      <td>1</td>\n",
       "    </tr>\n",
       "  </tbody>\n",
       "</table>\n",
       "</div>"
      ],
      "text/plain": [
       "    Title   Age     Sex  Pclass  IsAlone  Family_size  Parch  SibSp   Fare  \\\n",
       "312   Mrs  26.0  female       2        0            3      1      1  26.00   \n",
       "347   Mrs   NaN  female       3        0            2      0      1  16.10   \n",
       "141  Miss  22.0  female       3        1            1      0      0   7.75   \n",
       "\n",
       "     Survived  \n",
       "312         0  \n",
       "347         1  \n",
       "141         1  "
      ]
     },
     "execution_count": 4,
     "metadata": {},
     "output_type": "execute_result"
    }
   ],
   "source": [
    "# Reorder columns\n",
    "['Title', 'Age', 'Sex', 'Pclass', 'IsAlone', 'Family_size', 'SibSp', 'Parch', 'Fare', 'Survived']\n",
    "new_order = [8, 3, 2, 1, 9, 7, 5, 4, 6, 0]\n",
    "df = df[df.columns[new_order]]\n",
    "df.sample(3)"
   ]
  },
  {
   "cell_type": "markdown",
   "metadata": {},
   "source": [
    "## Converting character variables to numeric"
   ]
  },
  {
   "cell_type": "code",
   "execution_count": 5,
   "metadata": {},
   "outputs": [],
   "source": [
    "df['Sex'] = df['Sex'].map( {'male': 0, 'female': 1} ).astype(int) \n",
    "df['Title'] = df['Title'].map({'Mr':0, 'Miss':1, 'Mrs':2, 'Master':3, 'Rare Title':4}).astype(int)"
   ]
  },
  {
   "cell_type": "code",
   "execution_count": 6,
   "metadata": {},
   "outputs": [
    {
     "data": {
      "text/html": [
       "<div>\n",
       "<style scoped>\n",
       "    .dataframe tbody tr th:only-of-type {\n",
       "        vertical-align: middle;\n",
       "    }\n",
       "\n",
       "    .dataframe tbody tr th {\n",
       "        vertical-align: top;\n",
       "    }\n",
       "\n",
       "    .dataframe thead th {\n",
       "        text-align: right;\n",
       "    }\n",
       "</style>\n",
       "<table border=\"1\" class=\"dataframe\">\n",
       "  <thead>\n",
       "    <tr style=\"text-align: right;\">\n",
       "      <th></th>\n",
       "      <th>Title</th>\n",
       "      <th>Age</th>\n",
       "      <th>Sex</th>\n",
       "      <th>Pclass</th>\n",
       "      <th>IsAlone</th>\n",
       "      <th>Family_size</th>\n",
       "      <th>Parch</th>\n",
       "      <th>SibSp</th>\n",
       "      <th>Fare</th>\n",
       "      <th>Survived</th>\n",
       "    </tr>\n",
       "  </thead>\n",
       "  <tbody>\n",
       "    <tr>\n",
       "      <th>0</th>\n",
       "      <td>0</td>\n",
       "      <td>22.0</td>\n",
       "      <td>0</td>\n",
       "      <td>3</td>\n",
       "      <td>0</td>\n",
       "      <td>2</td>\n",
       "      <td>0</td>\n",
       "      <td>1</td>\n",
       "      <td>7.2500</td>\n",
       "      <td>0</td>\n",
       "    </tr>\n",
       "    <tr>\n",
       "      <th>1</th>\n",
       "      <td>2</td>\n",
       "      <td>38.0</td>\n",
       "      <td>1</td>\n",
       "      <td>1</td>\n",
       "      <td>0</td>\n",
       "      <td>2</td>\n",
       "      <td>0</td>\n",
       "      <td>1</td>\n",
       "      <td>71.2833</td>\n",
       "      <td>1</td>\n",
       "    </tr>\n",
       "    <tr>\n",
       "      <th>2</th>\n",
       "      <td>1</td>\n",
       "      <td>26.0</td>\n",
       "      <td>1</td>\n",
       "      <td>3</td>\n",
       "      <td>1</td>\n",
       "      <td>1</td>\n",
       "      <td>0</td>\n",
       "      <td>0</td>\n",
       "      <td>7.9250</td>\n",
       "      <td>1</td>\n",
       "    </tr>\n",
       "  </tbody>\n",
       "</table>\n",
       "</div>"
      ],
      "text/plain": [
       "   Title   Age  Sex  Pclass  IsAlone  Family_size  Parch  SibSp     Fare  \\\n",
       "0      0  22.0    0       3        0            2      0      1   7.2500   \n",
       "1      2  38.0    1       1        0            2      0      1  71.2833   \n",
       "2      1  26.0    1       3        1            1      0      0   7.9250   \n",
       "\n",
       "   Survived  \n",
       "0         0  \n",
       "1         1  \n",
       "2         1  "
      ]
     },
     "execution_count": 6,
     "metadata": {},
     "output_type": "execute_result"
    }
   ],
   "source": [
    "df.head(3)"
   ]
  },
  {
   "cell_type": "markdown",
   "metadata": {},
   "source": [
    "## Filling NA values\n",
    "\n",
    "Age Imputation - Applying linear regression on resulting variables to predict age"
   ]
  },
  {
   "cell_type": "code",
   "execution_count": 7,
   "metadata": {},
   "outputs": [
    {
     "name": "stdout",
     "output_type": "stream",
     "text": [
      "Title            0\n",
      "Age            177\n",
      "Sex              0\n",
      "Pclass           0\n",
      "IsAlone          0\n",
      "Family_size      0\n",
      "Parch            0\n",
      "SibSp            0\n",
      "Fare             0\n",
      "Survived         0\n",
      "dtype: int64\n"
     ]
    }
   ],
   "source": [
    "print(pd.isnull(df).sum())"
   ]
  },
  {
   "cell_type": "markdown",
   "metadata": {},
   "source": [
    "Using Interpolation and linear regression to predict NA values for age feature. I ended up using interpolation."
   ]
  },
  {
   "cell_type": "code",
   "execution_count": 8,
   "metadata": {},
   "outputs": [],
   "source": [
    "\n",
    "# train_set = df[pd.isnull(df['Age']),]\n",
    "train_set = df[df['Age'] >= 0]\n",
    "X_train = train_set.drop(['Age'], axis = 1)\n",
    "y_train = train_set.loc[:,'Age']\n",
    "\n",
    "from sklearn.linear_model import LinearRegression\n",
    "regressor = LinearRegression()\n",
    "regressor.fit(X_train, y_train)\n",
    "\n",
    "# comparing age predictions\n",
    "age_comparison = df.loc[:,['Age']]\n",
    "age_comparison['is_null'] = np.where(pd.isnull(age_comparison['Age']), True, False)\n",
    "\n",
    "age_comparison['Interpolation'] = df.interpolate()['Age']\n",
    "\n",
    "age_comparison['LR_prediction'] = regressor.predict(df.drop(['Age'], axis = 1))\n",
    "\n",
    "age_comparison['LR_prediction'] = np.where(age_comparison['is_null'], \n",
    "                                           age_comparison['LR_prediction'],\n",
    "                                           age_comparison['Age'])\n",
    "                                           \n",
    "# age_comparison[age_comparison['is_null']]\n",
    "\n",
    "\n",
    "# # age_comparison['LR_diff'] = age_comparison['Age'] - age_comparison['LR_prediction']\n",
    "# age_comparison['Interp_diff'] = age_comparison['Age'] - age_comparison['Interpolation']\n",
    "\n",
    "\n",
    "# mad = age_comparison[\"LR_diff\"].abs().mean()\n",
    "# std = age_comparison[\"LR_diff\"].abs().std()\n",
    "# print(\"Linear Regresssion Prediction\")\n",
    "# print(\"Mean absolute difference: {}\".format(mad))\n",
    "# print(\"Standard Deviation: {}\".format(std))\n",
    "\n",
    "# mad = age_comparison[\"Interp_diff\"].abs().mean()\n",
    "# std = age_comparison[\"Interp_diff\"].abs().std()\n",
    "# print(\"Interpolation Prediction\")\n",
    "# print(\"Mean absolute difference: {}\".format(mad))\n",
    "# print(\"Standard Deviation: {}\".format(std))\n",
    "\n",
    "df['Age'] = age_comparison['LR_prediction']\n",
    "df['Age'] = age_comparison['Interpolation']\n"
   ]
  },
  {
   "cell_type": "markdown",
   "metadata": {},
   "source": [
    "## Binning Age variable"
   ]
  },
  {
   "cell_type": "code",
   "execution_count": 9,
   "metadata": {},
   "outputs": [
    {
     "data": {
      "text/plain": [
       "Age_Group\n",
       "0     1.353519\n",
       "1     6.955065\n",
       "2    16.417636\n",
       "3    22.022707\n",
       "4    35.937246\n",
       "5    59.653509\n",
       "6    71.562500\n",
       "Name: Age, dtype: float64"
      ]
     },
     "execution_count": 9,
     "metadata": {},
     "output_type": "execute_result"
    }
   ],
   "source": [
    "bins = [0, 2, 12, 18, 25, 54, 65, np.inf]\n",
    "# labels = ['baby','child','teenager',\"young adult\",'adult','senior','older person']\n",
    "labels = [0,1,2,3,4,5,6]\n",
    "df['Age_Group'] = pd.cut(df['Age'], bins=bins, labels=labels)\n",
    "\n",
    "df.groupby(['Age_Group'])['Age'].mean()"
   ]
  },
  {
   "cell_type": "code",
   "execution_count": 10,
   "metadata": {},
   "outputs": [
    {
     "data": {
      "text/html": [
       "<div>\n",
       "<style scoped>\n",
       "    .dataframe tbody tr th:only-of-type {\n",
       "        vertical-align: middle;\n",
       "    }\n",
       "\n",
       "    .dataframe tbody tr th {\n",
       "        vertical-align: top;\n",
       "    }\n",
       "\n",
       "    .dataframe thead th {\n",
       "        text-align: right;\n",
       "    }\n",
       "</style>\n",
       "<table border=\"1\" class=\"dataframe\">\n",
       "  <thead>\n",
       "    <tr style=\"text-align: right;\">\n",
       "      <th></th>\n",
       "      <th>Title</th>\n",
       "      <th>Age</th>\n",
       "      <th>Age_Group</th>\n",
       "      <th>Sex</th>\n",
       "      <th>Pclass</th>\n",
       "      <th>IsAlone</th>\n",
       "      <th>Family_size</th>\n",
       "      <th>Parch</th>\n",
       "      <th>SibSp</th>\n",
       "      <th>Fare</th>\n",
       "      <th>Survived</th>\n",
       "    </tr>\n",
       "  </thead>\n",
       "  <tbody>\n",
       "    <tr>\n",
       "      <th>830</th>\n",
       "      <td>2</td>\n",
       "      <td>15.0</td>\n",
       "      <td>2</td>\n",
       "      <td>1</td>\n",
       "      <td>3</td>\n",
       "      <td>0</td>\n",
       "      <td>2</td>\n",
       "      <td>0</td>\n",
       "      <td>1</td>\n",
       "      <td>14.4542</td>\n",
       "      <td>1</td>\n",
       "    </tr>\n",
       "    <tr>\n",
       "      <th>260</th>\n",
       "      <td>0</td>\n",
       "      <td>26.5</td>\n",
       "      <td>4</td>\n",
       "      <td>0</td>\n",
       "      <td>3</td>\n",
       "      <td>1</td>\n",
       "      <td>1</td>\n",
       "      <td>0</td>\n",
       "      <td>0</td>\n",
       "      <td>7.7500</td>\n",
       "      <td>0</td>\n",
       "    </tr>\n",
       "    <tr>\n",
       "      <th>196</th>\n",
       "      <td>0</td>\n",
       "      <td>50.0</td>\n",
       "      <td>4</td>\n",
       "      <td>0</td>\n",
       "      <td>3</td>\n",
       "      <td>1</td>\n",
       "      <td>1</td>\n",
       "      <td>0</td>\n",
       "      <td>0</td>\n",
       "      <td>7.7500</td>\n",
       "      <td>0</td>\n",
       "    </tr>\n",
       "    <tr>\n",
       "      <th>438</th>\n",
       "      <td>0</td>\n",
       "      <td>64.0</td>\n",
       "      <td>5</td>\n",
       "      <td>0</td>\n",
       "      <td>1</td>\n",
       "      <td>0</td>\n",
       "      <td>6</td>\n",
       "      <td>4</td>\n",
       "      <td>1</td>\n",
       "      <td>263.0000</td>\n",
       "      <td>0</td>\n",
       "    </tr>\n",
       "    <tr>\n",
       "      <th>484</th>\n",
       "      <td>0</td>\n",
       "      <td>25.0</td>\n",
       "      <td>3</td>\n",
       "      <td>0</td>\n",
       "      <td>1</td>\n",
       "      <td>0</td>\n",
       "      <td>2</td>\n",
       "      <td>0</td>\n",
       "      <td>1</td>\n",
       "      <td>91.0792</td>\n",
       "      <td>1</td>\n",
       "    </tr>\n",
       "  </tbody>\n",
       "</table>\n",
       "</div>"
      ],
      "text/plain": [
       "     Title   Age Age_Group  Sex  Pclass  IsAlone  Family_size  Parch  SibSp  \\\n",
       "830      2  15.0         2    1       3        0            2      0      1   \n",
       "260      0  26.5         4    0       3        1            1      0      0   \n",
       "196      0  50.0         4    0       3        1            1      0      0   \n",
       "438      0  64.0         5    0       1        0            6      4      1   \n",
       "484      0  25.0         3    0       1        0            2      0      1   \n",
       "\n",
       "         Fare  Survived  \n",
       "830   14.4542         1  \n",
       "260    7.7500         0  \n",
       "196    7.7500         0  \n",
       "438  263.0000         0  \n",
       "484   91.0792         1  "
      ]
     },
     "execution_count": 10,
     "metadata": {},
     "output_type": "execute_result"
    }
   ],
   "source": [
    "new_order = [0,1,10,2,3,4,5,6,7,8,9]\n",
    "df = df[df.columns[new_order]]\n",
    "df.sample(5)"
   ]
  },
  {
   "cell_type": "markdown",
   "metadata": {},
   "source": [
    "## Applying Random Forest"
   ]
  },
  {
   "cell_type": "code",
   "execution_count": 11,
   "metadata": {},
   "outputs": [],
   "source": [
    "from sklearn.model_selection import train_test_split\n",
    "X = df.drop(['Survived'], axis = 1)\n",
    "y = df['Survived']\n",
    "\n",
    "X_train, X_test, y_train, y_test = train_test_split(X, y, test_size=0.33, random_state=42)"
   ]
  },
  {
   "cell_type": "code",
   "execution_count": 12,
   "metadata": {},
   "outputs": [],
   "source": [
    "from sklearn.metrics import confusion_matrix, classification_report\n",
    "\n",
    "def evaluate_algorithm(model, X_train, X_test, y_train, y_test):\n",
    "    model.fit(X_train, y_train) # fitting-training the model\n",
    "    y_pred = model.predict(X_test) # making predictions\n",
    "\n",
    "    training_accuracy = model.score(X_train, y_train)\n",
    "    test_accuracy = model.score(X_test, y_test)\n",
    "\n",
    "    print(\"Training Accuracy = {:.3f}\".format(training_accuracy)) # predicting and scoring on the same time given a the data\n",
    "    print(\"Test Accuracy = {:.3f}\".format(test_accuracy))\n",
    "    print(confusion_matrix(y_test, y_pred))\n",
    "    #     tn, fp, fn, tp = confusion_matrix(y_test, y_pred).ravel()\n",
    "\n",
    "    print(classification_report(y_test, y_pred))\n",
    "    return model\n",
    "\n",
    "def ta(model, X_train, X_test, y_train, y_test):\n",
    "    model.fit(X_train, y_train) # fitting-training the model\n",
    "    test_accuracy = model.score(X_test, y_test)\n",
    "    return model, test_accuracy"
   ]
  },
  {
   "cell_type": "code",
   "execution_count": 13,
   "metadata": {},
   "outputs": [
    {
     "name": "stdout",
     "output_type": "stream",
     "text": [
      "------------------------- RANDOM FOREST -------------------------\n",
      "Training Accuracy = 0.971\n",
      "Test Accuracy = 0.847\n",
      "[[158  17]\n",
      " [ 28  92]]\n",
      "              precision    recall  f1-score   support\n",
      "\n",
      "           0       0.85      0.90      0.88       175\n",
      "           1       0.84      0.77      0.80       120\n",
      "\n",
      "    accuracy                           0.85       295\n",
      "   macro avg       0.85      0.83      0.84       295\n",
      "weighted avg       0.85      0.85      0.85       295\n",
      "\n"
     ]
    }
   ],
   "source": [
    "from sklearn.linear_model import LogisticRegression\n",
    "from sklearn.svm import SVC, LinearSVC\n",
    "from sklearn.ensemble import RandomForestClassifier\n",
    "from sklearn.neighbors import KNeighborsClassifier\n",
    "from sklearn.naive_bayes import GaussianNB\n",
    "\n",
    "\n",
    "# print(\"-\"*25,\"LOGISTIC REGRESSION\",\"-\"*25)\n",
    "# logreg = LogisticRegression()\n",
    "# logreg = evaluate_algorithm(logreg, X_train, X_test, y_train, y_test)\n",
    "\n",
    "# print(\"-\"*25,\"SUPPORT VECTOR MACHINES\",\"-\"*25)\n",
    "# svc = SVC()\n",
    "# svc = evaluate_algorithm(svc, X_train, X_test, y_train, y_test)\n",
    "\n",
    "print(\"-\"*25,\"RANDOM FOREST\",\"-\"*25)\n",
    "rf = RandomForestClassifier(random_state = 1421)\n",
    "rf = evaluate_algorithm(rf, X_train, X_test, y_train, y_test)\n",
    "# rf, acc = ta(rf, X_train, X_test, y_train, y_test)\n",
    "# print(acc)\n",
    "\n",
    "\n",
    "# print(\"-\"*25,\"KNN\",\"-\"*25)\n",
    "# knn = KNeighborsClassifier(n_neighbors = 5)\n",
    "# knn = evaluate_algorithm(knn, X_train, X_test, y_train, y_test)\n",
    "\n",
    "# print(\"-\"*25,\"NAIVE BAYES CLASSIFIER\",\"-\"*25)\n",
    "# nbc = GaussianNB()\n",
    "# nbc = evaluate_algorithm(nbc, X_train, X_test, y_train, y_test)"
   ]
  },
  {
   "cell_type": "markdown",
   "metadata": {},
   "source": [
    "## Trying different random states "
   ]
  },
  {
   "cell_type": "code",
   "execution_count": 14,
   "metadata": {},
   "outputs": [
    {
     "name": "stdout",
     "output_type": "stream",
     "text": [
      "Random State: 0\n",
      "Accuracy: 0.7762711864406779\n",
      "Random State: 1\n",
      "Accuracy: 0.7966101694915254\n",
      "Random State: 2\n",
      "Accuracy: 0.8033898305084746\n",
      "Random State: 3\n",
      "Accuracy: 0.8271186440677966\n",
      "Random State: 39\n",
      "Accuracy: 0.8305084745762712\n",
      "Random State: 124\n",
      "Accuracy: 0.8372881355932204\n",
      "Random State: 195\n",
      "Accuracy: 0.8440677966101695\n",
      "Random State: 1421\n",
      "Accuracy: 0.847457627118644\n",
      "Program Lasted: 34.473 seconds\n"
     ]
    }
   ],
   "source": [
    "from time import time\n",
    "\n",
    "max_random_state = 2000\n",
    "start = time()\n",
    "max_acc = 0\n",
    "for st in range(max_random_state):\n",
    "    rf = RandomForestClassifier(random_state = st)\n",
    "    rf, acc = ta(rf, X_train, X_test, y_train, y_test)\n",
    "    if acc > max_acc:\n",
    "        best_rf = rf\n",
    "        max_acc = acc\n",
    "        print(f'Random State: {st}')\n",
    "        print(f'Accuracy: {max_acc}')\n",
    "finish = round(time()-start,3)\n",
    "print(f'Program Lasted: {finish} seconds')\n"
   ]
  },
  {
   "cell_type": "markdown",
   "metadata": {},
   "source": [
    "## Storing Model in a pickle file"
   ]
  },
  {
   "cell_type": "code",
   "execution_count": 15,
   "metadata": {},
   "outputs": [],
   "source": [
    "import pickle\n",
    "\n",
    "pickle.dump(best_rf, open('model.pkl','wb'))\n"
   ]
  },
  {
   "cell_type": "markdown",
   "metadata": {},
   "source": [
    "## Testing pickle file"
   ]
  },
  {
   "cell_type": "code",
   "execution_count": 16,
   "metadata": {},
   "outputs": [
    {
     "data": {
      "text/plain": [
       "0.8"
      ]
     },
     "execution_count": 16,
     "metadata": {},
     "output_type": "execute_result"
    }
   ],
   "source": [
    "import pickle\n",
    "model = pickle.load(open('model.pkl', 'rb'))\n",
    "dc = {\n",
    "    'Title':0,\n",
    "    'Age':16,\n",
    "    'Age_Group':2,\n",
    "    'Sex':0,\n",
    "    'Pclass':2,\n",
    "    'IsAlone':1,\n",
    "    'Family_size':1,\n",
    "    'Parch':0,\n",
    "    'SibSp':0,\n",
    "    'Fare':26,\n",
    "}\n",
    "row = [[x for x in dc.values()]]\n",
    "model.predict_proba(row)[0][0]"
   ]
  },
  {
   "cell_type": "markdown",
   "metadata": {},
   "source": [
    "## Random Forest - Plotting Feature Importance"
   ]
  },
  {
   "cell_type": "code",
   "execution_count": 18,
   "metadata": {},
   "outputs": [
    {
     "data": {
      "image/png": "[encoded data removed]",
      "text/plain": [
       "<Figure size 432x288 with 1 Axes>"
      ]
     },
     "metadata": {
      "needs_background": "light"
     },
     "output_type": "display_data"
    }
   ],
   "source": [
    "import matplotlib.pyplot as plt\n",
    "\n",
    "def f_importances(coef, names):\n",
    "    imp = coef\n",
    "    imp,names = zip(*sorted(zip(imp,names)))\n",
    "    plt.barh(range(len(names)), imp, align='center')\n",
    "    plt.yticks(range(len(names)), names)\n",
    "\n",
    "f_importances(best_rf.feature_importances_, list(X_train.columns))"
   ]
  }
 ],
 "metadata": {
  "kernelspec": {
   "display_name": "Python 3",
   "language": "python",
   "name": "python3"
  },
  "language_info": {
   "codemirror_mode": {
    "name": "ipython",
    "version": 3
   },
   "file_extension": ".py",
   "mimetype": "text/x-python",
   "name": "python",
   "nbconvert_exporter": "python",
   "pygments_lexer": "ipython3",
   "version": "3.6.8"
  }
 },
 "nbformat": 4,
 "nbformat_minor": 2
}

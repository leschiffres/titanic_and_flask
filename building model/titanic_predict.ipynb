{
 "cells": [
  {
   "cell_type": "code",
   "execution_count": 1,
   "metadata": {},
   "outputs": [],
   "source": [
    "import pandas as pd\n",
    "import numpy as np\n",
    "\n",
    "import warnings\n",
    "warnings.filterwarnings(\"ignore\", category=FutureWarning)\n",
    "\n",
    "# pd.isnull(df).sum()"
   ]
  },
  {
   "cell_type": "markdown",
   "metadata": {},
   "source": [
    "## Loading Dataset "
   ]
  },
  {
   "cell_type": "code",
   "execution_count": 2,
   "metadata": {},
   "outputs": [
    {
     "data": {
      "text/html": [
       "<div>\n",
       "<style scoped>\n",
       "    .dataframe tbody tr th:only-of-type {\n",
       "        vertical-align: middle;\n",
       "    }\n",
       "\n",
       "    .dataframe tbody tr th {\n",
       "        vertical-align: top;\n",
       "    }\n",
       "\n",
       "    .dataframe thead th {\n",
       "        text-align: right;\n",
       "    }\n",
       "</style>\n",
       "<table border=\"1\" class=\"dataframe\">\n",
       "  <thead>\n",
       "    <tr style=\"text-align: right;\">\n",
       "      <th></th>\n",
       "      <th>PassengerId</th>\n",
       "      <th>Pclass</th>\n",
       "      <th>Name</th>\n",
       "      <th>Sex</th>\n",
       "      <th>Age</th>\n",
       "      <th>SibSp</th>\n",
       "      <th>Parch</th>\n",
       "      <th>Ticket</th>\n",
       "      <th>Fare</th>\n",
       "      <th>Cabin</th>\n",
       "      <th>Embarked</th>\n",
       "    </tr>\n",
       "  </thead>\n",
       "  <tbody>\n",
       "    <tr>\n",
       "      <td>0</td>\n",
       "      <td>892</td>\n",
       "      <td>3</td>\n",
       "      <td>Kelly, Mr. James</td>\n",
       "      <td>male</td>\n",
       "      <td>34.5</td>\n",
       "      <td>0</td>\n",
       "      <td>0</td>\n",
       "      <td>330911</td>\n",
       "      <td>7.8292</td>\n",
       "      <td>NaN</td>\n",
       "      <td>Q</td>\n",
       "    </tr>\n",
       "    <tr>\n",
       "      <td>1</td>\n",
       "      <td>893</td>\n",
       "      <td>3</td>\n",
       "      <td>Wilkes, Mrs. James (Ellen Needs)</td>\n",
       "      <td>female</td>\n",
       "      <td>47.0</td>\n",
       "      <td>1</td>\n",
       "      <td>0</td>\n",
       "      <td>363272</td>\n",
       "      <td>7.0000</td>\n",
       "      <td>NaN</td>\n",
       "      <td>S</td>\n",
       "    </tr>\n",
       "    <tr>\n",
       "      <td>2</td>\n",
       "      <td>894</td>\n",
       "      <td>2</td>\n",
       "      <td>Myles, Mr. Thomas Francis</td>\n",
       "      <td>male</td>\n",
       "      <td>62.0</td>\n",
       "      <td>0</td>\n",
       "      <td>0</td>\n",
       "      <td>240276</td>\n",
       "      <td>9.6875</td>\n",
       "      <td>NaN</td>\n",
       "      <td>Q</td>\n",
       "    </tr>\n",
       "  </tbody>\n",
       "</table>\n",
       "</div>"
      ],
      "text/plain": [
       "   PassengerId  Pclass                              Name     Sex   Age  SibSp  \\\n",
       "0          892       3                  Kelly, Mr. James    male  34.5      0   \n",
       "1          893       3  Wilkes, Mrs. James (Ellen Needs)  female  47.0      1   \n",
       "2          894       2         Myles, Mr. Thomas Francis    male  62.0      0   \n",
       "\n",
       "   Parch  Ticket    Fare Cabin Embarked  \n",
       "0      0  330911  7.8292   NaN        Q  \n",
       "1      0  363272  7.0000   NaN        S  \n",
       "2      0  240276  9.6875   NaN        Q  "
      ]
     },
     "execution_count": 2,
     "metadata": {},
     "output_type": "execute_result"
    }
   ],
   "source": [
    "df = pd.read_csv('dataset/test.csv')\n",
    "df.head(3)"
   ]
  },
  {
   "cell_type": "markdown",
   "metadata": {},
   "source": [
    "## Preprocessing"
   ]
  },
  {
   "cell_type": "code",
   "execution_count": 3,
   "metadata": {},
   "outputs": [],
   "source": [
    "# create family variable\n",
    "df['Family_size'] = df['Parch'] + df['SibSp'] + 1\n",
    "# create title feature\n",
    "df['Title'] = df['Name'].apply(lambda x : x.split('.')[0].split(',')[1].strip())\n",
    "df.loc[df['Title'] == 'Mlle','Title'] = 'Miss'\n",
    "df.loc[df['Title'] == 'Mme', 'Title'] = 'Miss'\n",
    "df.loc[df['Title'] == 'Ms', 'Title'] = 'Miss'\n",
    "rare_titles = ['Dr', 'Rev', 'Col', 'Major', 'Don','Dona', 'Lady', 'the Countess','Capt','Sir', 'Jonkheer']\n",
    "for r in rare_titles:\n",
    "    df.loc[df['Title'] == r, 'Title'] = 'Rare Title'\n",
    "\n",
    "df['IsAlone'] = 0\n",
    "df.loc[df['Family_size'] == 1, 'IsAlone'] = 1\n",
    "# remove name, cabin, ticket, 'PassengerId'\n",
    "\n",
    "# keep passenger IDs for future reference\n",
    "passengerIds = list(df['PassengerId'])\n",
    "\n",
    "df.drop(['Name', 'Cabin', 'Ticket', 'PassengerId', 'Embarked'], axis = 1, inplace = True)\n",
    "\n",
    "# Reorder columns\n",
    "['Title', 'Age', 'Sex', 'Pclass', 'IsAlone', 'Family_size', 'SibSp', 'Parch', 'Fare', 'Survived']\n",
    "new_order = [7, 2, 1, 0, 8, 6, 4, 3, 5]\n",
    "df = df[df.columns[new_order]]\n",
    "df.sample(3)\n",
    "\n",
    "## Converting character variables to numeric\n",
    "df['Sex'] = df['Sex'].map( {'male': 0, 'female': 1} ).astype(int) \n",
    "df['Title'] = df['Title'].map({'Mr':0, 'Miss':1, 'Mrs':2, 'Master':3, 'Rare Title':4}).astype(int)\n",
    "\n",
    "## Filling NA values\n",
    "# Age Imputation - Applying linear regression on resulting variables to predict age\n",
    "\n",
    "df.loc[pd.isnull(df['Fare']), 'Fare'] = df['Fare'].mean()\n",
    "df['Age'] = df.interpolate()['Age']\n",
    "\n",
    "## Binning Age variable\n",
    "bins = [0, 2, 12, 18, 25, 54, 65, np.inf]\n",
    "# labels = ['baby','child','teenager',\"young adult\",'adult','senior','older person']\n",
    "labels = [0,1,2,3,4,5,6]\n",
    "df['Age_Group'] = pd.cut(df['Age'], bins=bins, labels=labels)\n",
    "\n",
    "df.groupby(['Age_Group'])['Age'].mean()\n",
    "\n",
    "new_order = [0,1,9,2,3,4,5,6,7,8]\n",
    "df = df[df.columns[new_order]]"
   ]
  },
  {
   "cell_type": "code",
   "execution_count": 4,
   "metadata": {},
   "outputs": [
    {
     "data": {
      "text/html": [
       "<div>\n",
       "<style scoped>\n",
       "    .dataframe tbody tr th:only-of-type {\n",
       "        vertical-align: middle;\n",
       "    }\n",
       "\n",
       "    .dataframe tbody tr th {\n",
       "        vertical-align: top;\n",
       "    }\n",
       "\n",
       "    .dataframe thead th {\n",
       "        text-align: right;\n",
       "    }\n",
       "</style>\n",
       "<table border=\"1\" class=\"dataframe\">\n",
       "  <thead>\n",
       "    <tr style=\"text-align: right;\">\n",
       "      <th></th>\n",
       "      <th>Title</th>\n",
       "      <th>Age</th>\n",
       "      <th>Age_Group</th>\n",
       "      <th>Sex</th>\n",
       "      <th>Pclass</th>\n",
       "      <th>IsAlone</th>\n",
       "      <th>Family_size</th>\n",
       "      <th>Parch</th>\n",
       "      <th>SibSp</th>\n",
       "      <th>Fare</th>\n",
       "    </tr>\n",
       "  </thead>\n",
       "  <tbody>\n",
       "    <tr>\n",
       "      <td>216</td>\n",
       "      <td>1</td>\n",
       "      <td>49.5</td>\n",
       "      <td>4</td>\n",
       "      <td>1</td>\n",
       "      <td>3</td>\n",
       "      <td>1</td>\n",
       "      <td>1</td>\n",
       "      <td>0</td>\n",
       "      <td>0</td>\n",
       "      <td>7.8792</td>\n",
       "    </tr>\n",
       "    <tr>\n",
       "      <td>373</td>\n",
       "      <td>0</td>\n",
       "      <td>44.0</td>\n",
       "      <td>4</td>\n",
       "      <td>0</td>\n",
       "      <td>2</td>\n",
       "      <td>1</td>\n",
       "      <td>1</td>\n",
       "      <td>0</td>\n",
       "      <td>0</td>\n",
       "      <td>13.0000</td>\n",
       "    </tr>\n",
       "    <tr>\n",
       "      <td>310</td>\n",
       "      <td>0</td>\n",
       "      <td>18.0</td>\n",
       "      <td>2</td>\n",
       "      <td>0</td>\n",
       "      <td>3</td>\n",
       "      <td>1</td>\n",
       "      <td>1</td>\n",
       "      <td>0</td>\n",
       "      <td>0</td>\n",
       "      <td>8.6625</td>\n",
       "    </tr>\n",
       "  </tbody>\n",
       "</table>\n",
       "</div>"
      ],
      "text/plain": [
       "     Title   Age Age_Group  Sex  Pclass  IsAlone  Family_size  Parch  SibSp  \\\n",
       "216      1  49.5         4    1       3        1            1      0      0   \n",
       "373      0  44.0         4    0       2        1            1      0      0   \n",
       "310      0  18.0         2    0       3        1            1      0      0   \n",
       "\n",
       "        Fare  \n",
       "216   7.8792  \n",
       "373  13.0000  \n",
       "310   8.6625  "
      ]
     },
     "execution_count": 4,
     "metadata": {},
     "output_type": "execute_result"
    }
   ],
   "source": [
    "df.sample(3)"
   ]
  },
  {
   "cell_type": "markdown",
   "metadata": {},
   "source": [
    "# Exporting Output"
   ]
  },
  {
   "cell_type": "markdown",
   "metadata": {},
   "source": [
    "## Impot model from pickle file, predict probabilities and export csv"
   ]
  },
  {
   "cell_type": "code",
   "execution_count": 20,
   "metadata": {},
   "outputs": [],
   "source": [
    "import pickle\n",
    "model = pickle.load(open('model.pkl', 'rb'))\n",
    "\n",
    "prob = list(model.predict_proba(df)[:,1])\n",
    "predictions = [1  if x > 0.5 else 0 for x in prob]\n",
    "df_out = pd.DataFrame({'PassengerId':passengerIds, 'Survived': predictions})\n",
    "df_out.to_csv('py_git_submission_rf.csv', index = False)"
   ]
  },
  {
   "cell_type": "code",
   "execution_count": 24,
   "metadata": {},
   "outputs": [
    {
     "name": "stdout",
     "output_type": "stream",
     "text": [
      "[900, 904, 906, 907, 913, 914, 916, 918, 920, 924, 926, 931, 935, 936, 938, 940, 941, 944, 945, 951, 955, 957, 961, 964, 966, 969, 972, 978, 980, 981, 982, 988, 989, 992, 996, 1004, 1005, 1006, 1009, 1011, 1012, 1014, 1017, 1019, 1020, 1022, 1033, 1042, 1045, 1048, 1051, 1052, 1053, 1054, 1057, 1060, 1065, 1067, 1068, 1070, 1071, 1074, 1076, 1078, 1084, 1086, 1088, 1091, 1092, 1093, 1095, 1098, 1100, 1105, 1108, 1109, 1110, 1112, 1114, 1115, 1116, 1117, 1119, 1123, 1128, 1130, 1131, 1132, 1133, 1138, 1140, 1141, 1142, 1148, 1150, 1154, 1155, 1164, 1165, 1167, 1173, 1174, 1175, 1176, 1188, 1191, 1197, 1199, 1200, 1204, 1205, 1206, 1207, 1208, 1215, 1216, 1218, 1222, 1225, 1231, 1235, 1237, 1241, 1242, 1246, 1248, 1253, 1254, 1256, 1260, 1263, 1266, 1267, 1274, 1275, 1277, 1283, 1284, 1287, 1289, 1292, 1294, 1300, 1301, 1303, 1304, 1306, 1309]\n"
     ]
    }
   ],
   "source": [
    "print(list(df_out[df_out['Survived'] == 1]['PassengerId']))"
   ]
  }
 ],
 "metadata": {
  "kernelspec": {
   "display_name": "Python 3",
   "language": "python",
   "name": "python3"
  },
  "language_info": {
   "codemirror_mode": {
    "name": "ipython",
    "version": 3
   },
   "file_extension": ".py",
   "mimetype": "text/x-python",
   "name": "python",
   "nbconvert_exporter": "python",
   "pygments_lexer": "ipython3",
   "version": "3.6.8"
  }
 },
 "nbformat": 4,
 "nbformat_minor": 2
}

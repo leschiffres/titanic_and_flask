{
 "cells": [
  {
   "cell_type": "code",
   "execution_count": null,
   "metadata": {},
   "outputs": [],
   "source": [
    "import pandas as pd\n",
    "import numpy as np\n",
    "\n",
    "import warnings\n",
    "warnings.filterwarnings(\"ignore\", category=FutureWarning)\n",
    "\n",
    "# pd.isnull(df).sum()"
   ]
  },
  {
   "cell_type": "code",
   "execution_count": null,
   "metadata": {},
   "outputs": [],
   "source": [
    "df = pd.read_csv('dataset/train.csv')\n",
    "df.sample(3)"
   ]
  },
  {
   "cell_type": "code",
   "execution_count": null,
   "metadata": {},
   "outputs": [],
   "source": [
    "df[df['Sex'] == 'female'].sort_values(by = ['SibSp'], ascending = False )[0:20]"
   ]
  },
  {
   "cell_type": "code",
   "execution_count": null,
   "metadata": {},
   "outputs": [],
   "source": [
    "# create family variable\n",
    "df['Family_size'] = df['Parch'] + df['SibSp'] + 1\n",
    "# create title feature\n",
    "df['Title'] = df['Name'].apply(lambda x : x.split('.')[0].split(',')[1].strip())\n",
    "df.loc[df['Title'] == 'Mlle','Title'] = 'Miss'\n",
    "df.loc[df['Title'] == 'Mme', 'Title'] = 'Miss'\n",
    "df.loc[df['Title'] == 'Ms', 'Title'] = 'Miss'\n",
    "rare_titles = ['Dr', 'Rev', 'Col', 'Major', 'Don','Dona', 'Lady', 'the Countess','Capt','Sir', 'Jonkheer']\n",
    "for r in rare_titles:\n",
    "    df.loc[df['Title'] == r, 'Title'] = 'Rare Title'\n",
    "\n",
    "df['IsAlone'] = 0\n",
    "df.loc[df['Family_size'] == 1, 'IsAlone'] = 1\n",
    "# remove name, cabin, ticket, 'PassengerId'\n",
    "df.drop(['Name', 'Cabin', 'Ticket', 'PassengerId', 'Embarked'], axis = 1, inplace = True)\n",
    "df.sample(3)"
   ]
  },
  {
   "cell_type": "code",
   "execution_count": null,
   "metadata": {},
   "outputs": [],
   "source": [
    "# Reorder columns\n",
    "['Title', 'Age', 'Sex', 'Pclass', 'IsAlone', 'Family_size', 'SibSp', 'Parch', 'Fare', 'Survived']\n",
    "new_order = [8, 3, 2, 1, 9, 7, 5, 4, 6, 0]\n",
    "df = df[df.columns[new_order]]\n",
    "df.sample(5)"
   ]
  },
  {
   "cell_type": "markdown",
   "metadata": {},
   "source": [
    "## Converting character variables to numeric"
   ]
  },
  {
   "cell_type": "code",
   "execution_count": null,
   "metadata": {},
   "outputs": [],
   "source": [
    "df['Sex'] = df['Sex'].map( {'male': 0, 'female': 1} ).astype(int) \n",
    "df['Title'] = df['Title'].map({'Mr':0, 'Miss':1, 'Mrs':2, 'Master':3, 'Rare Title':4}).astype(int)"
   ]
  },
  {
   "cell_type": "code",
   "execution_count": null,
   "metadata": {},
   "outputs": [],
   "source": [
    "df.head(5)"
   ]
  },
  {
   "cell_type": "markdown",
   "metadata": {},
   "source": [
    "## Age Imputation - Applying linear regression on resulting variables to predict age"
   ]
  },
  {
   "cell_type": "code",
   "execution_count": null,
   "metadata": {},
   "outputs": [],
   "source": [
    "print(pd.isnull(df).sum())"
   ]
  },
  {
   "cell_type": "code",
   "execution_count": null,
   "metadata": {
    "scrolled": true
   },
   "outputs": [],
   "source": [
    "# df[pd.isnull(df['Age'])]\n",
    "df.head()"
   ]
  },
  {
   "cell_type": "code",
   "execution_count": null,
   "metadata": {},
   "outputs": [],
   "source": [
    "\n",
    "# train_set = df[pd.isnull(df['Age']),]\n",
    "train_set = df[df['Age'] >= 0]\n",
    "X_train = train_set.drop(['Age'], axis = 1)\n",
    "y_train = train_set.loc[:,'Age']\n",
    "\n",
    "from sklearn.linear_model import LinearRegression\n",
    "regressor = LinearRegression()\n",
    "regressor.fit(X_train, y_train)\n",
    "\n",
    "# comparing age predictions\n",
    "age_comparison = df.loc[:,['Age']]\n",
    "age_comparison['is_null'] = np.where(pd.isnull(age_comparison['Age']), True, False)\n",
    "\n",
    "age_comparison['Interpolation'] = df.interpolate()['Age']\n",
    "\n",
    "age_comparison['LR_prediction'] = regressor.predict(df.drop(['Age'], axis = 1))\n",
    "\n",
    "age_comparison['LR_prediction'] = np.where(age_comparison['is_null'], \n",
    "                                           age_comparison['LR_prediction'],\n",
    "                                           age_comparison['Age'])\n",
    "                                           \n",
    "# age_comparison[age_comparison['is_null']]\n",
    "\n",
    "\n",
    "# # age_comparison['LR_diff'] = age_comparison['Age'] - age_comparison['LR_prediction']\n",
    "# age_comparison['Interp_diff'] = age_comparison['Age'] - age_comparison['Interpolation']\n",
    "\n",
    "\n",
    "# mad = age_comparison[\"LR_diff\"].abs().mean()\n",
    "# std = age_comparison[\"LR_diff\"].abs().std()\n",
    "# print(\"Linear Regresssion Prediction\")\n",
    "# print(\"Mean absolute difference: {}\".format(mad))\n",
    "# print(\"Standard Deviation: {}\".format(std))\n",
    "\n",
    "# mad = age_comparison[\"Interp_diff\"].abs().mean()\n",
    "# std = age_comparison[\"Interp_diff\"].abs().std()\n",
    "# print(\"Interpolation Prediction\")\n",
    "# print(\"Mean absolute difference: {}\".format(mad))\n",
    "# print(\"Standard Deviation: {}\".format(std))\n",
    "\n",
    "df['Age'] = age_comparison['LR_prediction']\n",
    "df['Age'] = age_comparison['Interpolation']\n"
   ]
  },
  {
   "cell_type": "code",
   "execution_count": null,
   "metadata": {},
   "outputs": [],
   "source": [
    "bins = [0, 2, 12, 18, 25, 54, 65, np.inf]\n",
    "# labels = ['baby','child','teenager',\"young adult\",'adult','senior','older person']\n",
    "labels = [0,1,2,3,4,5,6]\n",
    "df['Age_Group'] = pd.cut(df['Age'], bins=bins, labels=labels)\n",
    "\n",
    "df.groupby(['Age_Group'])['Age'].mean()"
   ]
  },
  {
   "cell_type": "code",
   "execution_count": null,
   "metadata": {},
   "outputs": [],
   "source": [
    "new_order = [0,1,10,2,3,4,5,6,7,8,9]\n",
    "df = df[df.columns[new_order]]\n",
    "df.sample(5)"
   ]
  },
  {
   "cell_type": "code",
   "execution_count": null,
   "metadata": {},
   "outputs": [],
   "source": [
    "from sklearn.model_selection import train_test_split\n",
    "X = df.drop(['Survived'], axis = 1)\n",
    "y = df['Survived']\n",
    "\n",
    "X_train, X_test, y_train, y_test = train_test_split(X, y, test_size=0.33, random_state=42)"
   ]
  },
  {
   "cell_type": "code",
   "execution_count": null,
   "metadata": {},
   "outputs": [],
   "source": [
    "from sklearn.metrics import confusion_matrix, classification_report\n",
    "\n",
    "def evaluate_algorithm(model, X_train, X_test, y_train, y_test):\n",
    "    model.fit(X_train, y_train) # fitting-training the model\n",
    "    y_pred = model.predict(X_test) # making predictions\n",
    "\n",
    "    training_accuracy = model.score(X_train, y_train)\n",
    "    test_accuracy = model.score(X_test, y_test)\n",
    "\n",
    "    print(\"Training Accuracy = {:.3f}\".format(training_accuracy)) # predicting and scoring on the same time given a the data\n",
    "    print(\"Test Accuracy = {:.3f}\".format(test_accuracy))\n",
    "    print(confusion_matrix(y_test, y_pred))\n",
    "    #     tn, fp, fn, tp = confusion_matrix(y_test, y_pred).ravel()\n",
    "\n",
    "    print(classification_report(y_test, y_pred))\n",
    "    return model"
   ]
  },
  {
   "cell_type": "code",
   "execution_count": null,
   "metadata": {},
   "outputs": [],
   "source": [
    "from sklearn.linear_model import LogisticRegression\n",
    "from sklearn.svm import SVC, LinearSVC\n",
    "from sklearn.ensemble import RandomForestClassifier\n",
    "from sklearn.neighbors import KNeighborsClassifier\n",
    "from sklearn.naive_bayes import GaussianNB\n",
    "\n",
    "\n",
    "# print(\"-\"*25,\"LOGISTIC REGRESSION\",\"-\"*25)\n",
    "# logreg = LogisticRegression()\n",
    "# logreg = evaluate_algorithm(logreg, X_train, X_test, y_train, y_test)\n",
    "\n",
    "# print(\"-\"*25,\"SUPPORT VECTOR MACHINES\",\"-\"*25)\n",
    "# svc = SVC()\n",
    "# svc = evaluate_algorithm(svc, X_train, X_test, y_train, y_test)\n",
    "\n",
    "print(\"-\"*25,\"RANDOM FOREST\",\"-\"*25)\n",
    "rf = RandomForestClassifier()\n",
    "rf = evaluate_algorithm(rf, X_train, X_test, y_train, y_test)\n",
    "\n",
    "# print(\"-\"*25,\"KNN\",\"-\"*25)\n",
    "# knn = KNeighborsClassifier(n_neighbors = 5)\n",
    "# knn = evaluate_algorithm(knn, X_train, X_test, y_train, y_test)\n",
    "\n",
    "# print(\"-\"*25,\"NAIVE BAYES CLASSIFIER\",\"-\"*25)\n",
    "# nbc = GaussianNB()\n",
    "# nbc = evaluate_algorithm(nbc, X_train, X_test, y_train, y_test)"
   ]
  },
  {
   "cell_type": "code",
   "execution_count": null,
   "metadata": {},
   "outputs": [],
   "source": [
    "# import pickle\n",
    "# pickle.dump(rf, open('model.pkl','wb'))"
   ]
  },
  {
   "cell_type": "code",
   "execution_count": null,
   "metadata": {},
   "outputs": [],
   "source": [
    "import pickle\n",
    "model = pickle.load(open('model.pkl', 'rb'))\n",
    "dc = {\n",
    "    'Title':0,\n",
    "    'Age':16,\n",
    "    'Age_Group':2,\n",
    "    'Sex':0,\n",
    "    'Pclass':2,\n",
    "    'IsAlone':1,\n",
    "    'Family_size':1,\n",
    "    'Parch':0,\n",
    "    'SibSp':0,\n",
    "    'Fare':26,\n",
    "}\n",
    "# dc = {\n",
    "#     'Title':0,\n",
    "#     'Age':20,\n",
    "#     'Age_Group':4,\n",
    "#     'Sex':0,\n",
    "#     'Pclass':3,\n",
    "#     'IsAlone':0,\n",
    "#     'Family_size':4,\n",
    "#     'Parch':2,\n",
    "#     'SibSp':1,\n",
    "#     'Fare':7.25,\n",
    "# }\n",
    "# rf.predict\n",
    "row = [[x for x in dc.values()]]\n",
    "model.predict_proba(row)[0][0]"
   ]
  }
 ],
 "metadata": {
  "kernelspec": {
   "display_name": "Python 3",
   "language": "python",
   "name": "python3"
  },
  "language_info": {
   "codemirror_mode": {
    "name": "ipython",
    "version": 3
   },
   "file_extension": ".py",
   "mimetype": "text/x-python",
   "name": "python",
   "nbconvert_exporter": "python",
   "pygments_lexer": "ipython3",
   "version": "3.7.5"
  }
 },
 "nbformat": 4,
 "nbformat_minor": 2
}
